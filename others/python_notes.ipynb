{
 "cells": [
  {
   "cell_type": "markdown",
   "metadata": {},
   "source": [
    "# Random python notes.\n",
    "#### PS: This notes are for personal use only. There won\\`t be much content in English unless I\\`m willing to do so."
   ]
  },
  {
   "cell_type": "markdown",
   "metadata": {},
   "source": [
    "## 1.Python变量赋值机制\n",
    "Python中使用 `=` 赋值的操作基本等同于传址，两个变量会引用同一个地址的内容。"
   ]
  },
  {
   "cell_type": "code",
   "execution_count": 8,
   "metadata": {
    "tags": []
   },
   "outputs": [
    {
     "output_type": "stream",
     "name": "stdout",
     "text": "[1, 2, 3, 4]\n[1, 2, 3, 4]\n[1, 2, 3, 4]\n"
    }
   ],
   "source": [
    "sample_list = [1, 2, 3, 4]\n",
    "temp1 = sample_list\n",
    "temp2 = sample_list.copy()\n",
    "\n",
    "print(sample_list)\n",
    "print(temp1)\n",
    "print(temp2)"
   ]
  },
  {
   "cell_type": "markdown",
   "metadata": {},
   "source": [
    "如果对 `sample_list` 变量进行操作，`temp` 变量的值也会随之发生改变。 <br/>\n",
    "因此，在想使用复制变量的值而不是传址操作时，应该使用 `copy()` 操作。"
   ]
  },
  {
   "cell_type": "code",
   "execution_count": 9,
   "metadata": {
    "tags": []
   },
   "outputs": [
    {
     "output_type": "stream",
     "name": "stdout",
     "text": "[1, 2, 3]\n[1, 2]\n[1, 2, 3, 4]\n"
    }
   ],
   "source": [
    "sample_list.pop()\n",
    "print(sample_list)\n",
    "\n",
    "temp1.pop()\n",
    "print(temp1)\n",
    "\n",
    "print(temp2)"
   ]
  },
  {
   "cell_type": "markdown",
   "metadata": {},
   "source": [
    "同样的，使用变量作为另一个函数/方法的参数时，传入的变量也会影响其返回。"
   ]
  },
  {
   "cell_type": "code",
   "execution_count": 4,
   "metadata": {},
   "outputs": [
    {
     "name": "stdout",
     "output_type": "stream",
     "text": "[[1, 2, 3], [9, 8, 7]]\n[[1, 2], [8, 7]]\n"
    }
   ],
   "source": [
    "a = [1, 2, 3]\n",
    "b = [9, 8, 7]\n",
    "sample = [a, b]\n",
    "print(sample)\n",
    "\n",
    "# 对sample的传入参数进行修改。\n",
    "a.pop()\n",
    "b.pop(0)\n",
    "print(sample)"
   ]
  },
  {
   "cell_type": "markdown",
   "metadata": {},
   "source": [
    "## 2.`print()` 函数不换行\n",
    "`print` 函数的参数 `end=` 默认为`\\n`，改变 `end=` 参数的值即可取消换行或自定打印输出的结尾。"
   ]
  },
  {
   "cell_type": "code",
   "execution_count": 1,
   "metadata": {},
   "outputs": [
    {
     "name": "stdout",
     "output_type": "stream",
     "text": "0_1_2_3_4_"
    }
   ],
   "source": [
    "for i in range(5):\n",
    "    print(i, end='_')"
   ]
  },
  {
   "cell_type": "markdown",
   "metadata": {},
   "source": [
    "## 3. `swap` 函数\n",
    "python中可以直接使用赋值语句来实现 `swap` 函数的效果。"
   ]
  },
  {
   "cell_type": "code",
   "execution_count": 3,
   "metadata": {},
   "outputs": [
    {
     "name": "stdout",
     "output_type": "stream",
     "text": "0\n1\n"
    }
   ],
   "source": [
    "a = 1\n",
    "b = 0\n",
    "\n",
    "a, b = b, a\n",
    "\n",
    "print(a)\n",
    "print(b)"
   ]
  },
  {
   "cell_type": "markdown",
   "metadata": {},
   "source": [
    "## 4. 二进制位运算\n",
    "<< 左移 相当于乘 $2^n$\n",
    "\n",
    "\\>\\> 右移 相当于除以 $2^n$\n",
    "\n",
    "& 于\n",
    "\n",
    "| 或\n",
    "\n",
    "^ 异或\n",
    "\n",
    "~ 非"
   ]
  },
  {
   "cell_type": "code",
   "execution_count": 14,
   "metadata": {},
   "outputs": [
    {
     "output_type": "execute_result",
     "data": {
      "text/plain": "'0b100'"
     },
     "metadata": {},
     "execution_count": 14
    }
   ],
   "source": [
    "a = 4\n",
    "b = 3\n",
    "bin(a)"
   ]
  },
  {
   "cell_type": "code",
   "execution_count": 12,
   "metadata": {
    "tags": []
   },
   "outputs": [
    {
     "output_type": "execute_result",
     "data": {
      "text/plain": "2"
     },
     "metadata": {},
     "execution_count": 12
    }
   ],
   "source": [
    "a = a >> 1\n",
    "a"
   ]
  },
  {
   "cell_type": "code",
   "execution_count": 16,
   "metadata": {},
   "outputs": [
    {
     "output_type": "execute_result",
     "data": {
      "text/plain": "'0b111'"
     },
     "metadata": {},
     "execution_count": 16
    }
   ],
   "source": [
    "c = a | b\n",
    "bin(c)"
   ]
  },
  {
   "cell_type": "code",
   "execution_count": 17,
   "metadata": {},
   "outputs": [
    {
     "output_type": "execute_result",
     "data": {
      "text/plain": "7"
     },
     "metadata": {},
     "execution_count": 17
    }
   ],
   "source": [
    "c"
   ]
  },
  {
   "cell_type": "markdown",
   "metadata": {},
   "source": [
    "## 5. List 切片\n",
    "切片区间为左闭右开，即 [l, r)"
   ]
  },
  {
   "cell_type": "code",
   "execution_count": 2,
   "metadata": {},
   "outputs": [
    {
     "output_type": "execute_result",
     "data": {
      "text/plain": "[1, 2, 3, 4]"
     },
     "metadata": {},
     "execution_count": 2
    }
   ],
   "source": [
    "l = [0,1,2,3,4,5,6]\n",
    "l[1:5]"
   ]
  },
  {
   "cell_type": "code",
   "execution_count": null,
   "metadata": {},
   "outputs": [],
   "source": []
  }
 ],
 "metadata": {
  "language_info": {
   "name": "python",
   "codemirror_mode": {
    "name": "ipython",
    "version": 3
   },
   "version": "3.7.3-final"
  },
  "orig_nbformat": 2,
  "file_extension": ".py",
  "mimetype": "text/x-python",
  "name": "python",
  "npconvert_exporter": "python",
  "pygments_lexer": "ipython3",
  "version": 3,
  "kernelspec": {
   "name": "python37364bitc55adca9dfff41dd913eb68bc7fa83b3",
   "display_name": "Python 3.7.3 64-bit"
  }
 },
 "nbformat": 4,
 "nbformat_minor": 2
}